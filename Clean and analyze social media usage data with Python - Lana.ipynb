{
 "cells": [
  {
   "cell_type": "markdown",
   "id": "c1479752",
   "metadata": {},
   "source": [
    "## Clean and analyze social media usage data with Python\n",
    "Hello! <br>\n",
    "\n",
    "This is my first data analysis project. I took tips from **Clean and analyze social media usage data with Python** from Coursera's course and I'll do my best to show my results. It's a simple project, but I feel it's a perfect start point to improve my knowledges. <br>\n",
    "\n",
    "I'll use generated data from *random library* then clean and analyze. After, I'll use some visualization libraries to get insinghts from that data.\n"
   ]
  },
  {
   "cell_type": "markdown",
   "id": "02f202d8",
   "metadata": {},
   "source": [
    "First of all, we need to import useful libraries like pandas, numpy, random, matplotlib and seaborn."
   ]
  },
  {
   "cell_type": "code",
   "execution_count": 1,
   "id": "fe4859f7",
   "metadata": {},
   "outputs": [],
   "source": [
    "import pandas as pd\n",
    "import numpy as np\n",
    "import random\n",
    "import matplotlib.pyplot as plt\n",
    "%matplotlib inline\n",
    "import seaborn as sns"
   ]
  },
  {
   "cell_type": "markdown",
   "id": "be18bd9a",
   "metadata": {},
   "source": [
    "#### Generating and transforming data\n",
    "Once libraries were imported we can start generating our data using the random library. <br> After we transform our data, which is a python dictionary, into a pandas dataframe."
   ]
  },
  {
   "cell_type": "code",
   "execution_count": 2,
   "id": "f4793e98",
   "metadata": {},
   "outputs": [
    {
     "data": {
      "text/html": [
       "<div>\n",
       "<style scoped>\n",
       "    .dataframe tbody tr th:only-of-type {\n",
       "        vertical-align: middle;\n",
       "    }\n",
       "\n",
       "    .dataframe tbody tr th {\n",
       "        vertical-align: top;\n",
       "    }\n",
       "\n",
       "    .dataframe thead th {\n",
       "        text-align: right;\n",
       "    }\n",
       "</style>\n",
       "<table border=\"1\" class=\"dataframe\">\n",
       "  <thead>\n",
       "    <tr style=\"text-align: right;\">\n",
       "      <th></th>\n",
       "      <th>Date</th>\n",
       "      <th>Category</th>\n",
       "      <th>Likes</th>\n",
       "      <th>Social Media</th>\n",
       "    </tr>\n",
       "  </thead>\n",
       "  <tbody>\n",
       "    <tr>\n",
       "      <th>0</th>\n",
       "      <td>2021-01-01</td>\n",
       "      <td>Travel</td>\n",
       "      <td>8195</td>\n",
       "      <td>Facebook</td>\n",
       "    </tr>\n",
       "    <tr>\n",
       "      <th>1</th>\n",
       "      <td>2021-01-02</td>\n",
       "      <td>Food</td>\n",
       "      <td>2211</td>\n",
       "      <td>Instagram</td>\n",
       "    </tr>\n",
       "    <tr>\n",
       "      <th>2</th>\n",
       "      <td>2021-01-03</td>\n",
       "      <td>Travel</td>\n",
       "      <td>5703</td>\n",
       "      <td>X (former Twitter)</td>\n",
       "    </tr>\n",
       "    <tr>\n",
       "      <th>3</th>\n",
       "      <td>2021-01-04</td>\n",
       "      <td>Travel</td>\n",
       "      <td>3899</td>\n",
       "      <td>Threads</td>\n",
       "    </tr>\n",
       "    <tr>\n",
       "      <th>4</th>\n",
       "      <td>2021-01-05</td>\n",
       "      <td>Travel</td>\n",
       "      <td>6554</td>\n",
       "      <td>Threads</td>\n",
       "    </tr>\n",
       "    <tr>\n",
       "      <th>...</th>\n",
       "      <td>...</td>\n",
       "      <td>...</td>\n",
       "      <td>...</td>\n",
       "      <td>...</td>\n",
       "    </tr>\n",
       "    <tr>\n",
       "      <th>995</th>\n",
       "      <td>2023-09-23</td>\n",
       "      <td>Politics</td>\n",
       "      <td>9542</td>\n",
       "      <td>Facebook</td>\n",
       "    </tr>\n",
       "    <tr>\n",
       "      <th>996</th>\n",
       "      <td>2023-09-24</td>\n",
       "      <td>Culture</td>\n",
       "      <td>8016</td>\n",
       "      <td>X (former Twitter)</td>\n",
       "    </tr>\n",
       "    <tr>\n",
       "      <th>997</th>\n",
       "      <td>2023-09-25</td>\n",
       "      <td>Politics</td>\n",
       "      <td>1940</td>\n",
       "      <td>Facebook</td>\n",
       "    </tr>\n",
       "    <tr>\n",
       "      <th>998</th>\n",
       "      <td>2023-09-26</td>\n",
       "      <td>Music</td>\n",
       "      <td>4682</td>\n",
       "      <td>Threads</td>\n",
       "    </tr>\n",
       "    <tr>\n",
       "      <th>999</th>\n",
       "      <td>2023-09-27</td>\n",
       "      <td>Music</td>\n",
       "      <td>4859</td>\n",
       "      <td>Facebook</td>\n",
       "    </tr>\n",
       "  </tbody>\n",
       "</table>\n",
       "<p>1000 rows × 4 columns</p>\n",
       "</div>"
      ],
      "text/plain": [
       "          Date  Category  Likes        Social Media\n",
       "0   2021-01-01    Travel   8195            Facebook\n",
       "1   2021-01-02      Food   2211           Instagram\n",
       "2   2021-01-03    Travel   5703  X (former Twitter)\n",
       "3   2021-01-04    Travel   3899             Threads\n",
       "4   2021-01-05    Travel   6554             Threads\n",
       "..         ...       ...    ...                 ...\n",
       "995 2023-09-23  Politics   9542            Facebook\n",
       "996 2023-09-24   Culture   8016  X (former Twitter)\n",
       "997 2023-09-25  Politics   1940            Facebook\n",
       "998 2023-09-26     Music   4682             Threads\n",
       "999 2023-09-27     Music   4859            Facebook\n",
       "\n",
       "[1000 rows x 4 columns]"
      ]
     },
     "execution_count": 2,
     "metadata": {},
     "output_type": "execute_result"
    }
   ],
   "source": [
    "categories = ['Food', 'Travel', 'Fashion', 'Fitness', 'Music', 'Culture', 'Politics']\n",
    "social_media = ['Facebook', 'X (former Twitter)', 'Threads', 'Instagram']\n",
    "data = {'Date': pd.date_range('2021-01-01', periods=1000), 'Category': [random.choice(categories) for _ in range(1000                                                                                                                )],\n",
    "        'Likes': np.random.randint(0, 10000, size=1000), 'Social Media': [random.choice(social_media) for _ in range(1000)]}\n",
    "df = pd.DataFrame(data)\n",
    "df"
   ]
  },
  {
   "cell_type": "markdown",
   "id": "52536b65",
   "metadata": {},
   "source": [
    "#### Analyzing data\n",
    "When importing data, it's good to check informations about it before working. In this case, we have generated data, which types we already know, but let's check it."
   ]
  },
  {
   "cell_type": "code",
   "execution_count": 3,
   "id": "6178425d",
   "metadata": {},
   "outputs": [
    {
     "data": {
      "text/plain": [
       "Date            datetime64[ns]\n",
       "Category                object\n",
       "Likes                    int32\n",
       "Social Media            object\n",
       "dtype: object"
      ]
     },
     "execution_count": 3,
     "metadata": {},
     "output_type": "execute_result"
    }
   ],
   "source": [
    "df.dtypes"
   ]
  },
  {
   "cell_type": "markdown",
   "id": "563a56af",
   "metadata": {},
   "source": [
    "We have datetime (Date), object (Category) and integer (Likes) as dtypes for this dataframe, in this way we can continue our analysis whithout any type transformation. <br>\n",
    "We can call describe() pandas method to check out basics informations about our dataset."
   ]
  },
  {
   "cell_type": "code",
   "execution_count": 4,
   "id": "70cebd40",
   "metadata": {},
   "outputs": [
    {
     "data": {
      "text/html": [
       "<div>\n",
       "<style scoped>\n",
       "    .dataframe tbody tr th:only-of-type {\n",
       "        vertical-align: middle;\n",
       "    }\n",
       "\n",
       "    .dataframe tbody tr th {\n",
       "        vertical-align: top;\n",
       "    }\n",
       "\n",
       "    .dataframe thead th {\n",
       "        text-align: right;\n",
       "    }\n",
       "</style>\n",
       "<table border=\"1\" class=\"dataframe\">\n",
       "  <thead>\n",
       "    <tr style=\"text-align: right;\">\n",
       "      <th></th>\n",
       "      <th>Likes</th>\n",
       "    </tr>\n",
       "  </thead>\n",
       "  <tbody>\n",
       "    <tr>\n",
       "      <th>count</th>\n",
       "      <td>1000.000000</td>\n",
       "    </tr>\n",
       "    <tr>\n",
       "      <th>mean</th>\n",
       "      <td>5043.931000</td>\n",
       "    </tr>\n",
       "    <tr>\n",
       "      <th>std</th>\n",
       "      <td>2833.261229</td>\n",
       "    </tr>\n",
       "    <tr>\n",
       "      <th>min</th>\n",
       "      <td>2.000000</td>\n",
       "    </tr>\n",
       "    <tr>\n",
       "      <th>25%</th>\n",
       "      <td>2730.500000</td>\n",
       "    </tr>\n",
       "    <tr>\n",
       "      <th>50%</th>\n",
       "      <td>5123.500000</td>\n",
       "    </tr>\n",
       "    <tr>\n",
       "      <th>75%</th>\n",
       "      <td>7415.500000</td>\n",
       "    </tr>\n",
       "    <tr>\n",
       "      <th>max</th>\n",
       "      <td>9986.000000</td>\n",
       "    </tr>\n",
       "  </tbody>\n",
       "</table>\n",
       "</div>"
      ],
      "text/plain": [
       "             Likes\n",
       "count  1000.000000\n",
       "mean   5043.931000\n",
       "std    2833.261229\n",
       "min       2.000000\n",
       "25%    2730.500000\n",
       "50%    5123.500000\n",
       "75%    7415.500000\n",
       "max    9986.000000"
      ]
     },
     "execution_count": 4,
     "metadata": {},
     "output_type": "execute_result"
    }
   ],
   "source": [
    "df.describe()"
   ]
  },
  {
   "cell_type": "markdown",
   "id": "6874bc3d",
   "metadata": {},
   "source": [
    "From this series we can check minimum, maximum, the standard deviation (std) and the main quartiles. <br>\n",
    "These statistics informations give us a general ideia of our dataset and help us to find better ways to work with. For example, standard deviation is a measure for data variability, i.e its shows us if our data is clustered or spread out. If std is close to mean value, our sample is more clustered, otherwise our sample is spread out. <br>\n",
    "\n",
    "Since our dataset doesn't need to be cleaned, we can start analyzing it by simple operations and then use these informations to generate graphs and plots for better visualization."
   ]
  },
  {
   "cell_type": "markdown",
   "id": "ecd7393d",
   "metadata": {},
   "source": [
    "The first operation that we'll use is groupby, which combines our data and makes it's easier to work with.<br>\n",
    "First of all, we'll groupby by Categories and sum Likes columns to summarize our data. Transforming the resulting Series in a DataFrame makes it's easier to understand and visualize the results."
   ]
  },
  {
   "cell_type": "code",
   "execution_count": 5,
   "id": "2d906cee",
   "metadata": {},
   "outputs": [
    {
     "data": {
      "text/html": [
       "<div>\n",
       "<style scoped>\n",
       "    .dataframe tbody tr th:only-of-type {\n",
       "        vertical-align: middle;\n",
       "    }\n",
       "\n",
       "    .dataframe tbody tr th {\n",
       "        vertical-align: top;\n",
       "    }\n",
       "\n",
       "    .dataframe thead th {\n",
       "        text-align: right;\n",
       "    }\n",
       "</style>\n",
       "<table border=\"1\" class=\"dataframe\">\n",
       "  <thead>\n",
       "    <tr style=\"text-align: right;\">\n",
       "      <th></th>\n",
       "      <th>Likes</th>\n",
       "    </tr>\n",
       "    <tr>\n",
       "      <th>Category</th>\n",
       "      <th></th>\n",
       "    </tr>\n",
       "  </thead>\n",
       "  <tbody>\n",
       "    <tr>\n",
       "      <th>Fashion</th>\n",
       "      <td>862608</td>\n",
       "    </tr>\n",
       "    <tr>\n",
       "      <th>Fitness</th>\n",
       "      <td>787347</td>\n",
       "    </tr>\n",
       "    <tr>\n",
       "      <th>Food</th>\n",
       "      <td>718291</td>\n",
       "    </tr>\n",
       "    <tr>\n",
       "      <th>Travel</th>\n",
       "      <td>715219</td>\n",
       "    </tr>\n",
       "    <tr>\n",
       "      <th>Music</th>\n",
       "      <td>677523</td>\n",
       "    </tr>\n",
       "    <tr>\n",
       "      <th>Culture</th>\n",
       "      <td>646828</td>\n",
       "    </tr>\n",
       "    <tr>\n",
       "      <th>Politics</th>\n",
       "      <td>636115</td>\n",
       "    </tr>\n",
       "  </tbody>\n",
       "</table>\n",
       "</div>"
      ],
      "text/plain": [
       "           Likes\n",
       "Category        \n",
       "Fashion   862608\n",
       "Fitness   787347\n",
       "Food      718291\n",
       "Travel    715219\n",
       "Music     677523\n",
       "Culture   646828\n",
       "Politics  636115"
      ]
     },
     "execution_count": 5,
     "metadata": {},
     "output_type": "execute_result"
    }
   ],
   "source": [
    "sum_likes = pd.DataFrame(df.groupby('Category')['Likes'].sum())\n",
    "sum_likes.sort_values(by='Likes', ascending=False, inplace=True)\n",
    "sum_likes"
   ]
  },
  {
   "cell_type": "markdown",
   "id": "d1d69d4f",
   "metadata": {},
   "source": [
    "Getting information for each social media is important for investors into tech stock exchange, for this we'll go for groupby operation too. We'll separate data from top two social media in differents dataframes for better visualization and the apply groupby for category and likes."
   ]
  },
  {
   "cell_type": "code",
   "execution_count": 6,
   "id": "a7d26caa",
   "metadata": {},
   "outputs": [
    {
     "data": {
      "text/html": [
       "<div>\n",
       "<style scoped>\n",
       "    .dataframe tbody tr th:only-of-type {\n",
       "        vertical-align: middle;\n",
       "    }\n",
       "\n",
       "    .dataframe tbody tr th {\n",
       "        vertical-align: top;\n",
       "    }\n",
       "\n",
       "    .dataframe thead th {\n",
       "        text-align: right;\n",
       "    }\n",
       "</style>\n",
       "<table border=\"1\" class=\"dataframe\">\n",
       "  <thead>\n",
       "    <tr style=\"text-align: right;\">\n",
       "      <th></th>\n",
       "      <th>Likes</th>\n",
       "    </tr>\n",
       "    <tr>\n",
       "      <th>Category</th>\n",
       "      <th></th>\n",
       "    </tr>\n",
       "  </thead>\n",
       "  <tbody>\n",
       "    <tr>\n",
       "      <th>Culture</th>\n",
       "      <td>123860</td>\n",
       "    </tr>\n",
       "    <tr>\n",
       "      <th>Fashion</th>\n",
       "      <td>166509</td>\n",
       "    </tr>\n",
       "    <tr>\n",
       "      <th>Fitness</th>\n",
       "      <td>167394</td>\n",
       "    </tr>\n",
       "    <tr>\n",
       "      <th>Food</th>\n",
       "      <td>196353</td>\n",
       "    </tr>\n",
       "    <tr>\n",
       "      <th>Music</th>\n",
       "      <td>193274</td>\n",
       "    </tr>\n",
       "    <tr>\n",
       "      <th>Politics</th>\n",
       "      <td>119663</td>\n",
       "    </tr>\n",
       "    <tr>\n",
       "      <th>Travel</th>\n",
       "      <td>183119</td>\n",
       "    </tr>\n",
       "  </tbody>\n",
       "</table>\n",
       "</div>"
      ],
      "text/plain": [
       "           Likes\n",
       "Category        \n",
       "Culture   123860\n",
       "Fashion   166509\n",
       "Fitness   167394\n",
       "Food      196353\n",
       "Music     193274\n",
       "Politics  119663\n",
       "Travel    183119"
      ]
     },
     "execution_count": 6,
     "metadata": {},
     "output_type": "execute_result"
    }
   ],
   "source": [
    "facebook_data = df[df['Social Media']=='Facebook'] #Data from Facebook\n",
    "x_twitter_data = df[df['Social Media']=='X (former Twitter)'] #Data from X (former Twitter)\n",
    "threads_data = df[df['Social Media']=='Threads'] #Data from Threads\n",
    "instagram_data = df[df['Social Media']=='Instagram'] #Data from Instagram\n",
    "\n",
    "#Here we'll transform series into dataframes for better visualization (persnoally, I don't like series visualization)\n",
    "facebook_slikes = pd.DataFrame(facebook_data.groupby('Category')['Likes'].sum())\n",
    "x_twitter_slikes = pd.DataFrame(x_twitter_data.groupby('Category')['Likes'].sum())\n",
    "threads_slikes = pd.DataFrame(threads_data.groupby('Category')['Likes'].sum())\n",
    "instagram_slikes = pd.DataFrame(instagram_data.groupby('Category')['Likes'].sum())\n",
    "instagram_slikes"
   ]
  },
  {
   "cell_type": "markdown",
   "id": "a897ed58",
   "metadata": {},
   "source": [
    "#### Plotting data\n",
    "Well, we applied groupby operation successfully, now we can plot our data for better visualization. <br>\n",
    "Since we have a categorical variable, Category, and a numerical variable, Likes, we can use a barplot as follow."
   ]
  },
  {
   "cell_type": "code",
   "execution_count": 7,
   "id": "af73de73",
   "metadata": {},
   "outputs": [
    {
     "data": {
      "image/png": "[encoded data removed]",
      "text/plain": [
       "<Figure size 640x480 with 1 Axes>"
      ]
     },
     "metadata": {},
     "output_type": "display_data"
    }
   ],
   "source": [
    "#General data\n",
    "plt.bar(sum_likes.index, sum_likes['Likes'], width=0.6, color='#BFF483')\n",
    "plt.xlabel('Categories')\n",
    "plt.ylabel('Sum of likes')\n",
    "plt.title('Likes sum for each category')\n",
    "for i, value in enumerate(sum_likes['Likes']):\n",
    "    plt.text(sum_likes.index[i], value, str(value), ha='center', va='bottom')\n",
    "plt.show()"
   ]
  },
  {
   "cell_type": "markdown",
   "id": "415331c3",
   "metadata": {},
   "source": [
    "As shown above, Fashion and Culture are the main topics from our data, which indicates those posts sould be most viewed by the users. In this way, digital influencers and social media staff must look at these topics to increase their engagement. <br>\n",
    "\n",
    "Now we'll look for each social media separately to get insights for social media staff and investors whose into technology stock exchange.<br>\n",
    "Before plotting these data, we'll sort values by likes."
   ]
  },
  {
   "cell_type": "code",
   "execution_count": 22,
   "id": "2736f7a3",
   "metadata": {},
   "outputs": [
    {
     "data": {
      "text/html": [
       "<div>\n",
       "<style scoped>\n",
       "    .dataframe tbody tr th:only-of-type {\n",
       "        vertical-align: middle;\n",
       "    }\n",
       "\n",
       "    .dataframe tbody tr th {\n",
       "        vertical-align: top;\n",
       "    }\n",
       "\n",
       "    .dataframe thead th {\n",
       "        text-align: right;\n",
       "    }\n",
       "</style>\n",
       "<table border=\"1\" class=\"dataframe\">\n",
       "  <thead>\n",
       "    <tr style=\"text-align: right;\">\n",
       "      <th></th>\n",
       "      <th>Likes</th>\n",
       "    </tr>\n",
       "    <tr>\n",
       "      <th>Social Media</th>\n",
       "      <th></th>\n",
       "    </tr>\n",
       "  </thead>\n",
       "  <tbody>\n",
       "    <tr>\n",
       "      <th>X (former Twitter)</th>\n",
       "      <td>1379918</td>\n",
       "    </tr>\n",
       "    <tr>\n",
       "      <th>Facebook</th>\n",
       "      <td>1256924</td>\n",
       "    </tr>\n",
       "    <tr>\n",
       "      <th>Threads</th>\n",
       "      <td>1256917</td>\n",
       "    </tr>\n",
       "    <tr>\n",
       "      <th>Instagram</th>\n",
       "      <td>1150172</td>\n",
       "    </tr>\n",
       "  </tbody>\n",
       "</table>\n",
       "</div>"
      ],
      "text/plain": [
       "                      Likes\n",
       "Social Media               \n",
       "X (former Twitter)  1379918\n",
       "Facebook            1256924\n",
       "Threads             1256917\n",
       "Instagram           1150172"
      ]
     },
     "execution_count": 22,
     "metadata": {},
     "output_type": "execute_result"
    }
   ],
   "source": [
    "sum_social_media = pd.DataFrame(df.groupby('Social Media')['Likes'].sum())\n",
    "sum_social_media.sort_values(by='Likes', ascending=False, inplace= True)\n",
    "sum_social_media"
   ]
  },
  {
   "cell_type": "markdown",
   "id": "2a1db87b",
   "metadata": {},
   "source": [
    "From this dataframe we have X and Facebook as the top two social media, then we'll work with both to get more informations. <br>"
   ]
  },
  {
   "cell_type": "code",
   "execution_count": 32,
   "id": "1124d9a4",
   "metadata": {},
   "outputs": [
    {
     "data": {
      "image/png": "[encoded data removed]",
      "text/plain": [
       "<Figure size 640x480 with 1 Axes>"
      ]
     },
     "metadata": {},
     "output_type": "display_data"
    },
    {
     "name": "stdout",
     "output_type": "stream",
     "text": [
      "Standard deviation: Likes    47790.06\n",
      "dtype: float64\n",
      "Mean:Likes    197131.14\n",
      "dtype: float64\n"
     ]
    }
   ],
   "source": [
    "#X (former Twitter) data\n",
    "x_slikes_std = round(x_twitter_slikes.std(), 2)\n",
    "x_slikes_mean = round(x_twitter_slikes.mean(), 2)\n",
    "x_twitter_slikes.sort_values(by='Likes', ascending=False, inplace=True)\n",
    "plt.bar(x_twitter_slikes.index, x_twitter_slikes['Likes'], width=0.6, color='#000000')\n",
    "plt.xlabel('Categories')\n",
    "plt.ylabel('Sum of likes')\n",
    "plt.title('Likes sum for each category from X (former Twitter)')\n",
    "for i, value in enumerate(x_twitter_slikes['Likes']):\n",
    "    plt.text(x_twitter_slikes.index[i], value, str(value), ha='center', va='bottom')\n",
    "plt.show()\n",
    "print(f'Standard deviation: {x_slikes_std}')\n",
    "print(f'Mean: {x_slikes_mean}')"
   ]
  },
  {
   "cell_type": "code",
   "execution_count": 33,
   "id": "bb4de863",
   "metadata": {},
   "outputs": [
    {
     "data": {
      "image/png": "[encoded data removed]",
      "text/plain": [
       "<Figure size 640x480 with 1 Axes>"
      ]
     },
     "metadata": {},
     "output_type": "display_data"
    },
    {
     "name": "stdout",
     "output_type": "stream",
     "text": [
      "Standard deviation: Likes    26768.19\n",
      "dtype: float64\n",
      "Mean: Likes    179560.57\n",
      "dtype: float64\n"
     ]
    }
   ],
   "source": [
    "#Facebook data\n",
    "facebook_slikes_std = round(facebook_slikes.std(), 2)\n",
    "facebook_slikes_mean = round(facebook_slikes.mean(), 2)\n",
    "facebook_slikes.sort_values(by='Likes', ascending=False, inplace=True)\n",
    "plt.bar(facebook_slikes.index, facebook_slikes['Likes'], width=0.6, color='#4267B2')\n",
    "plt.xlabel('Categories')\n",
    "plt.ylabel('Sum of likes')\n",
    "plt.title('Likes sum for each category from Facebook')\n",
    "for i, value in enumerate(facebook_slikes['Likes']):\n",
    "    plt.text(facebook_slikes.index[i], value, str(value), ha='center', va='bottom')\n",
    "plt.show()\n",
    "print(f'Standard deviation: {facebook_slikes_std}')\n",
    "print(f'Mean: {facebook_slikes_mean}')"
   ]
  },
  {
   "cell_type": "markdown",
   "id": "696b3460",
   "metadata": {},
   "source": [
    "We could use describe() method for both dataframes, but our plot gave us a good view from data. <br>\n",
    "\n",
    "On X (former Twitter) the main two topics from our data are Fashion and Fitness. On the other hand, on Facebook the mains topics are Fashion and Food. <br>\n",
    "Since we have standard deviation and mean values for both social media, we can see that X data are more clustered than Facebook's data. <br>\n",
    "Summarizing, Fashion posts are most likely to increase engagement for both social media.\n"
   ]
  }
 ],
 "metadata": {
  "kernelspec": {
   "display_name": "Python 3 (ipykernel)",
   "language": "python",
   "name": "python3"
  },
  "language_info": {
   "codemirror_mode": {
    "name": "ipython",
    "version": 3
   },
   "file_extension": ".py",
   "mimetype": "text/x-python",
   "name": "python",
   "nbconvert_exporter": "python",
   "pygments_lexer": "ipython3",
   "version": "3.10.9"
  }
 },
 "nbformat": 4,
 "nbformat_minor": 5
}
