{
 "cells": [
  {
   "cell_type": "markdown",
   "id": "c1479752",
   "metadata": {},
   "source": [
    "## Clean and analyze social media usage data with Python\n",
    "Hello! <br>\n",
    "I'm Luan (or Lana), a Brazilian non-binary person and I'm 26 years old. Four years ago I found out about Pyhton and data analysis, then I took my time to learn about it and I fell in love for them! Now I fell confortable to start my projects to challenge myself and show the world what I can do and what I learnt.<br>\n",
    "\n",
    "This is my first data analysis project. I took tips from **Clean and analyze social media usage data with Python** from Coursera's course and I'll do my best to show my results. It's a simple project, but I feel it's a perfect start point to improve my knowledges. <br>\n",
    "\n",
    "I'll use generated data from *random library* then clean and analyze. After, I'll use some visualization libraries to get insinghts from that data.\n"
   ]
  },
  {
   "cell_type": "markdown",
   "id": "02f202d8",
   "metadata": {},
   "source": [
    "First of all, we need to import useful libraries like pandas, numpy, random, matplotlib and seaborn."
   ]
  },
  {
   "cell_type": "code",
   "execution_count": 8,
   "id": "fe4859f7",
   "metadata": {},
   "outputs": [],
   "source": [
    "import pandas as pd\n",
    "import numpy as np\n",
    "import random\n",
    "import matplotlib.pyplot as plt\n",
    "%matplotlib inline\n",
    "import seaborn as sns"
   ]
  },
  {
   "cell_type": "markdown",
   "id": "be18bd9a",
   "metadata": {},
   "source": [
    "#### Generating and transforming data\n",
    "Once libraries were imported we can start generating our data using the random library. <br> After we transform our data, which is a python dictionary, into a pandas dataframe."
   ]
  },
  {
   "cell_type": "code",
   "execution_count": 2,
   "id": "f4793e98",
   "metadata": {},
   "outputs": [
    {
     "data": {
      "text/html": [
       "<div>\n",
       "<style scoped>\n",
       "    .dataframe tbody tr th:only-of-type {\n",
       "        vertical-align: middle;\n",
       "    }\n",
       "\n",
       "    .dataframe tbody tr th {\n",
       "        vertical-align: top;\n",
       "    }\n",
       "\n",
       "    .dataframe thead th {\n",
       "        text-align: right;\n",
       "    }\n",
       "</style>\n",
       "<table border=\"1\" class=\"dataframe\">\n",
       "  <thead>\n",
       "    <tr style=\"text-align: right;\">\n",
       "      <th></th>\n",
       "      <th>Date</th>\n",
       "      <th>Category</th>\n",
       "      <th>Likes</th>\n",
       "      <th>Social Media</th>\n",
       "    </tr>\n",
       "  </thead>\n",
       "  <tbody>\n",
       "    <tr>\n",
       "      <th>0</th>\n",
       "      <td>2021-01-01</td>\n",
       "      <td>Culture</td>\n",
       "      <td>3737</td>\n",
       "      <td>X (former Twitter)</td>\n",
       "    </tr>\n",
       "    <tr>\n",
       "      <th>1</th>\n",
       "      <td>2021-01-02</td>\n",
       "      <td>Travel</td>\n",
       "      <td>4066</td>\n",
       "      <td>Facebook</td>\n",
       "    </tr>\n",
       "    <tr>\n",
       "      <th>2</th>\n",
       "      <td>2021-01-03</td>\n",
       "      <td>Fashion</td>\n",
       "      <td>2576</td>\n",
       "      <td>Facebook</td>\n",
       "    </tr>\n",
       "    <tr>\n",
       "      <th>3</th>\n",
       "      <td>2021-01-04</td>\n",
       "      <td>Politics</td>\n",
       "      <td>3648</td>\n",
       "      <td>Instagram</td>\n",
       "    </tr>\n",
       "    <tr>\n",
       "      <th>4</th>\n",
       "      <td>2021-01-05</td>\n",
       "      <td>Travel</td>\n",
       "      <td>7405</td>\n",
       "      <td>Facebook</td>\n",
       "    </tr>\n",
       "    <tr>\n",
       "      <th>...</th>\n",
       "      <td>...</td>\n",
       "      <td>...</td>\n",
       "      <td>...</td>\n",
       "      <td>...</td>\n",
       "    </tr>\n",
       "    <tr>\n",
       "      <th>995</th>\n",
       "      <td>2023-09-23</td>\n",
       "      <td>Food</td>\n",
       "      <td>8098</td>\n",
       "      <td>Threads</td>\n",
       "    </tr>\n",
       "    <tr>\n",
       "      <th>996</th>\n",
       "      <td>2023-09-24</td>\n",
       "      <td>Politics</td>\n",
       "      <td>8949</td>\n",
       "      <td>Instagram</td>\n",
       "    </tr>\n",
       "    <tr>\n",
       "      <th>997</th>\n",
       "      <td>2023-09-25</td>\n",
       "      <td>Travel</td>\n",
       "      <td>6663</td>\n",
       "      <td>Threads</td>\n",
       "    </tr>\n",
       "    <tr>\n",
       "      <th>998</th>\n",
       "      <td>2023-09-26</td>\n",
       "      <td>Fashion</td>\n",
       "      <td>2643</td>\n",
       "      <td>Threads</td>\n",
       "    </tr>\n",
       "    <tr>\n",
       "      <th>999</th>\n",
       "      <td>2023-09-27</td>\n",
       "      <td>Politics</td>\n",
       "      <td>482</td>\n",
       "      <td>X (former Twitter)</td>\n",
       "    </tr>\n",
       "  </tbody>\n",
       "</table>\n",
       "<p>1000 rows × 4 columns</p>\n",
       "</div>"
      ],
      "text/plain": [
       "          Date  Category  Likes        Social Media\n",
       "0   2021-01-01   Culture   3737  X (former Twitter)\n",
       "1   2021-01-02    Travel   4066            Facebook\n",
       "2   2021-01-03   Fashion   2576            Facebook\n",
       "3   2021-01-04  Politics   3648           Instagram\n",
       "4   2021-01-05    Travel   7405            Facebook\n",
       "..         ...       ...    ...                 ...\n",
       "995 2023-09-23      Food   8098             Threads\n",
       "996 2023-09-24  Politics   8949           Instagram\n",
       "997 2023-09-25    Travel   6663             Threads\n",
       "998 2023-09-26   Fashion   2643             Threads\n",
       "999 2023-09-27  Politics    482  X (former Twitter)\n",
       "\n",
       "[1000 rows x 4 columns]"
      ]
     },
     "execution_count": 2,
     "metadata": {},
     "output_type": "execute_result"
    }
   ],
   "source": [
    "categories = ['Food', 'Travel', 'Fashion', 'Fitness', 'Music', 'Culture', 'Politics']\n",
    "social_media = ['Facebook', 'X (former Twitter)', 'Threads', 'Instagram']\n",
    "data = {'Date': pd.date_range('2021-01-01', periods=1000), 'Category': [random.choice(categories) for _ in range(1000                                                                                                                )],\n",
    "        'Likes': np.random.randint(0, 10000, size=1000), 'Social Media': [random.choice(social_media) for _ in range(1000)]}\n",
    "df = pd.DataFrame(data)\n",
    "df"
   ]
  },
  {
   "cell_type": "markdown",
   "id": "52536b65",
   "metadata": {},
   "source": [
    "#### Analyzing data\n",
    "When importing data, it's good to check informations about it before working. In this case, we have generated data, which types we already know, but let's check it."
   ]
  },
  {
   "cell_type": "code",
   "execution_count": 3,
   "id": "6178425d",
   "metadata": {},
   "outputs": [
    {
     "data": {
      "text/plain": [
       "Date            datetime64[ns]\n",
       "Category                object\n",
       "Likes                    int32\n",
       "Social Media            object\n",
       "dtype: object"
      ]
     },
     "execution_count": 3,
     "metadata": {},
     "output_type": "execute_result"
    }
   ],
   "source": [
    "df.dtypes"
   ]
  },
  {
   "cell_type": "markdown",
   "id": "563a56af",
   "metadata": {},
   "source": [
    "We have datetime (Date), object (Category) and integer (Likes) as dtypes for this dataframe, in this way we can continue our analysis whithout any type transformation. <br>\n",
    "We can call describe() pandas method to check out basics informations about our dataset."
   ]
  },
  {
   "cell_type": "code",
   "execution_count": 4,
   "id": "70cebd40",
   "metadata": {},
   "outputs": [
    {
     "data": {
      "text/html": [
       "<div>\n",
       "<style scoped>\n",
       "    .dataframe tbody tr th:only-of-type {\n",
       "        vertical-align: middle;\n",
       "    }\n",
       "\n",
       "    .dataframe tbody tr th {\n",
       "        vertical-align: top;\n",
       "    }\n",
       "\n",
       "    .dataframe thead th {\n",
       "        text-align: right;\n",
       "    }\n",
       "</style>\n",
       "<table border=\"1\" class=\"dataframe\">\n",
       "  <thead>\n",
       "    <tr style=\"text-align: right;\">\n",
       "      <th></th>\n",
       "      <th>Likes</th>\n",
       "    </tr>\n",
       "  </thead>\n",
       "  <tbody>\n",
       "    <tr>\n",
       "      <th>count</th>\n",
       "      <td>1000.000000</td>\n",
       "    </tr>\n",
       "    <tr>\n",
       "      <th>mean</th>\n",
       "      <td>4865.849000</td>\n",
       "    </tr>\n",
       "    <tr>\n",
       "      <th>std</th>\n",
       "      <td>2885.189828</td>\n",
       "    </tr>\n",
       "    <tr>\n",
       "      <th>min</th>\n",
       "      <td>9.000000</td>\n",
       "    </tr>\n",
       "    <tr>\n",
       "      <th>25%</th>\n",
       "      <td>2422.750000</td>\n",
       "    </tr>\n",
       "    <tr>\n",
       "      <th>50%</th>\n",
       "      <td>4726.500000</td>\n",
       "    </tr>\n",
       "    <tr>\n",
       "      <th>75%</th>\n",
       "      <td>7491.750000</td>\n",
       "    </tr>\n",
       "    <tr>\n",
       "      <th>max</th>\n",
       "      <td>9999.000000</td>\n",
       "    </tr>\n",
       "  </tbody>\n",
       "</table>\n",
       "</div>"
      ],
      "text/plain": [
       "             Likes\n",
       "count  1000.000000\n",
       "mean   4865.849000\n",
       "std    2885.189828\n",
       "min       9.000000\n",
       "25%    2422.750000\n",
       "50%    4726.500000\n",
       "75%    7491.750000\n",
       "max    9999.000000"
      ]
     },
     "execution_count": 4,
     "metadata": {},
     "output_type": "execute_result"
    }
   ],
   "source": [
    "df.describe()"
   ]
  },
  {
   "cell_type": "markdown",
   "id": "6874bc3d",
   "metadata": {},
   "source": [
    "From this series we can check minimum, maximum, the standard deviation (std) and the main quartiles. <br>\n",
    "These statistics informations give us a general ideia of our dataset and help us to find better ways to work with. For example, standard deviation is a measure for data variability, i.e its shows us if our data is clustered or spread out. If std is close to mean value, our sample is more clustered, otherwise our sample is spread out. <br>\n",
    "\n",
    "Since our dataset doesn't need to be cleaned, we can start analyzing it by simple operations and then use these informations to generate graphs and plots for better visualization."
   ]
  },
  {
   "cell_type": "markdown",
   "id": "ecd7393d",
   "metadata": {},
   "source": [
    "The first operation that we'll use is groupby, which combines our data and makes it's easier to work with.<br>\n",
    "First of all, we'll groupby by Categories and sum Likes columns to summarize our data. Transforming the resulting Series in a DataFrame makes it's easier to understand and visualize the results."
   ]
  },
  {
   "cell_type": "code",
   "execution_count": 7,
   "id": "2d906cee",
   "metadata": {},
   "outputs": [
    {
     "data": {
      "text/html": [
       "<div>\n",
       "<style scoped>\n",
       "    .dataframe tbody tr th:only-of-type {\n",
       "        vertical-align: middle;\n",
       "    }\n",
       "\n",
       "    .dataframe tbody tr th {\n",
       "        vertical-align: top;\n",
       "    }\n",
       "\n",
       "    .dataframe thead th {\n",
       "        text-align: right;\n",
       "    }\n",
       "</style>\n",
       "<table border=\"1\" class=\"dataframe\">\n",
       "  <thead>\n",
       "    <tr style=\"text-align: right;\">\n",
       "      <th></th>\n",
       "      <th>Likes</th>\n",
       "    </tr>\n",
       "    <tr>\n",
       "      <th>Category</th>\n",
       "      <th></th>\n",
       "    </tr>\n",
       "  </thead>\n",
       "  <tbody>\n",
       "    <tr>\n",
       "      <th>Fashion</th>\n",
       "      <td>802083</td>\n",
       "    </tr>\n",
       "    <tr>\n",
       "      <th>Culture</th>\n",
       "      <td>774841</td>\n",
       "    </tr>\n",
       "    <tr>\n",
       "      <th>Fitness</th>\n",
       "      <td>767893</td>\n",
       "    </tr>\n",
       "    <tr>\n",
       "      <th>Politics</th>\n",
       "      <td>724101</td>\n",
       "    </tr>\n",
       "    <tr>\n",
       "      <th>Music</th>\n",
       "      <td>669815</td>\n",
       "    </tr>\n",
       "    <tr>\n",
       "      <th>Travel</th>\n",
       "      <td>590965</td>\n",
       "    </tr>\n",
       "    <tr>\n",
       "      <th>Food</th>\n",
       "      <td>536151</td>\n",
       "    </tr>\n",
       "  </tbody>\n",
       "</table>\n",
       "</div>"
      ],
      "text/plain": [
       "           Likes\n",
       "Category        \n",
       "Fashion   802083\n",
       "Culture   774841\n",
       "Fitness   767893\n",
       "Politics  724101\n",
       "Music     669815\n",
       "Travel    590965\n",
       "Food      536151"
      ]
     },
     "execution_count": 7,
     "metadata": {},
     "output_type": "execute_result"
    }
   ],
   "source": [
    "sum_likes = df.groupby('Category')['Likes'].sum()\n",
    "sum_likes = pd.DataFrame(sum_likes)\n",
    "sum_likes.sort_values(by='Likes', ascending=False, inplace=True)\n",
    "sum_likes"
   ]
  },
  {
   "cell_type": "markdown",
   "id": "cabf3933",
   "metadata": {},
   "source": [
    "#### Plotting data\n",
    "Well, we applied groupby operation successfully, now we can plot our data for better visualization. <br>\n",
    "Since we have a categorical variable, Category, and a numerical variable, Likes, we can use a barplot as follow."
   ]
  },
  {
   "cell_type": "code",
   "execution_count": 36,
   "id": "af73de73",
   "metadata": {},
   "outputs": [
    {
     "data": {
      "image/png": "[encoded data removed]",
      "text/plain": [
       "<Figure size 640x480 with 1 Axes>"
      ]
     },
     "metadata": {},
     "output_type": "display_data"
    }
   ],
   "source": [
    "plt.bar(sum_likes.index, sum_likes['Likes'], width=0.6, color='#BFF483')\n",
    "plt.xlabel('Categories')\n",
    "plt.ylabel('Sum of likes')\n",
    "plt.title('Likes sum for each category')\n",
    "for i, value in enumerate(sum_likes['Likes']):\n",
    "    plt.text(sum_likes.index[i], value, str(value), ha='center', va='bottom')\n",
    "plt.show()"
   ]
  },
  {
   "cell_type": "code",
   "execution_count": null,
   "id": "1e8d10c8",
   "metadata": {},
   "outputs": [],
   "source": []
  }
 ],
 "metadata": {
  "kernelspec": {
   "display_name": "Python 3 (ipykernel)",
   "language": "python",
   "name": "python3"
  },
  "language_info": {
   "codemirror_mode": {
    "name": "ipython",
    "version": 3
   },
   "file_extension": ".py",
   "mimetype": "text/x-python",
   "name": "python",
   "nbconvert_exporter": "python",
   "pygments_lexer": "ipython3",
   "version": "3.10.9"
  }
 },
 "nbformat": 4,
 "nbformat_minor": 5
}
