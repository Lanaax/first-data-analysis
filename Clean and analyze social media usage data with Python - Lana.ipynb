{
 "cells": [
  {
   "cell_type": "markdown",
   "id": "c1479752",
   "metadata": {},
   "source": [
    "## Clean and analyze social media usage data with Python\n",
    "Hello! <br>\n",
    "I'm Luan (or Lana), a Brazilian non-binary person and I'm 26 years old. Four years ago I found out about Pyhton and data analysis, then I took my time to learn about it and I fell in love for them! Now I fell confortable to start my projects to challenge myself and show the world what I can do and what I learnt.<br>\n",
    "\n",
    "This is my first data analysis project. I took tips from **Clean and analyze social media usage data with Python** from Coursera's course and I'll do my best to show my results. It's a simple project, but I feel it's a perfect start point to improve my knowledges. <br>\n",
    "\n",
    "I'll use generated data from *random library* then clean and analyze. After, I'll use some visualization libraries to get insinghts from that data.\n"
   ]
  },
  {
   "cell_type": "markdown",
   "id": "02f202d8",
   "metadata": {},
   "source": [
    "First of all, we need to import useful libraries like pandas, numpy, random, matplotlib and seaborn."
   ]
  },
  {
   "cell_type": "code",
   "execution_count": 9,
   "id": "fe4859f7",
   "metadata": {},
   "outputs": [],
   "source": [
    "import pandas as pd\n",
    "import numpy as np\n",
    "import random\n",
    "import matplotlib.pyplot as plt\n",
    "import seaborn as sns"
   ]
  },
  {
   "cell_type": "markdown",
   "id": "be18bd9a",
   "metadata": {},
   "source": [
    "#### Generating and transforming data\n",
    "Once libraries were imported we can start generating our data using the random library. <br> After we transform our data, which is a python dictionary, into a pandas dataframe."
   ]
  },
  {
   "cell_type": "code",
   "execution_count": 27,
   "id": "f4793e98",
   "metadata": {},
   "outputs": [
    {
     "data": {
      "text/html": [
       "<div>\n",
       "<style scoped>\n",
       "    .dataframe tbody tr th:only-of-type {\n",
       "        vertical-align: middle;\n",
       "    }\n",
       "\n",
       "    .dataframe tbody tr th {\n",
       "        vertical-align: top;\n",
       "    }\n",
       "\n",
       "    .dataframe thead th {\n",
       "        text-align: right;\n",
       "    }\n",
       "</style>\n",
       "<table border=\"1\" class=\"dataframe\">\n",
       "  <thead>\n",
       "    <tr style=\"text-align: right;\">\n",
       "      <th></th>\n",
       "      <th>Date</th>\n",
       "      <th>Category</th>\n",
       "      <th>Likes</th>\n",
       "      <th>Social Media</th>\n",
       "    </tr>\n",
       "  </thead>\n",
       "  <tbody>\n",
       "    <tr>\n",
       "      <th>0</th>\n",
       "      <td>2021-01-01</td>\n",
       "      <td>Politics</td>\n",
       "      <td>4341</td>\n",
       "      <td>Threads</td>\n",
       "    </tr>\n",
       "    <tr>\n",
       "      <th>1</th>\n",
       "      <td>2021-01-02</td>\n",
       "      <td>Food</td>\n",
       "      <td>7140</td>\n",
       "      <td>Instagram</td>\n",
       "    </tr>\n",
       "    <tr>\n",
       "      <th>2</th>\n",
       "      <td>2021-01-03</td>\n",
       "      <td>Food</td>\n",
       "      <td>1780</td>\n",
       "      <td>Threads</td>\n",
       "    </tr>\n",
       "    <tr>\n",
       "      <th>3</th>\n",
       "      <td>2021-01-04</td>\n",
       "      <td>Fitness</td>\n",
       "      <td>2713</td>\n",
       "      <td>Facebook</td>\n",
       "    </tr>\n",
       "    <tr>\n",
       "      <th>4</th>\n",
       "      <td>2021-01-05</td>\n",
       "      <td>Food</td>\n",
       "      <td>7730</td>\n",
       "      <td>Threads</td>\n",
       "    </tr>\n",
       "    <tr>\n",
       "      <th>...</th>\n",
       "      <td>...</td>\n",
       "      <td>...</td>\n",
       "      <td>...</td>\n",
       "      <td>...</td>\n",
       "    </tr>\n",
       "    <tr>\n",
       "      <th>995</th>\n",
       "      <td>2023-09-23</td>\n",
       "      <td>Travel</td>\n",
       "      <td>2368</td>\n",
       "      <td>Instagram</td>\n",
       "    </tr>\n",
       "    <tr>\n",
       "      <th>996</th>\n",
       "      <td>2023-09-24</td>\n",
       "      <td>Fitness</td>\n",
       "      <td>7283</td>\n",
       "      <td>Threads</td>\n",
       "    </tr>\n",
       "    <tr>\n",
       "      <th>997</th>\n",
       "      <td>2023-09-25</td>\n",
       "      <td>Food</td>\n",
       "      <td>8592</td>\n",
       "      <td>Instagram</td>\n",
       "    </tr>\n",
       "    <tr>\n",
       "      <th>998</th>\n",
       "      <td>2023-09-26</td>\n",
       "      <td>Travel</td>\n",
       "      <td>6338</td>\n",
       "      <td>Facebook</td>\n",
       "    </tr>\n",
       "    <tr>\n",
       "      <th>999</th>\n",
       "      <td>2023-09-27</td>\n",
       "      <td>Fitness</td>\n",
       "      <td>1755</td>\n",
       "      <td>Facebook</td>\n",
       "    </tr>\n",
       "  </tbody>\n",
       "</table>\n",
       "<p>1000 rows × 4 columns</p>\n",
       "</div>"
      ],
      "text/plain": [
       "          Date  Category  Likes Social Media\n",
       "0   2021-01-01  Politics   4341      Threads\n",
       "1   2021-01-02      Food   7140    Instagram\n",
       "2   2021-01-03      Food   1780      Threads\n",
       "3   2021-01-04   Fitness   2713     Facebook\n",
       "4   2021-01-05      Food   7730      Threads\n",
       "..         ...       ...    ...          ...\n",
       "995 2023-09-23    Travel   2368    Instagram\n",
       "996 2023-09-24   Fitness   7283      Threads\n",
       "997 2023-09-25      Food   8592    Instagram\n",
       "998 2023-09-26    Travel   6338     Facebook\n",
       "999 2023-09-27   Fitness   1755     Facebook\n",
       "\n",
       "[1000 rows x 4 columns]"
      ]
     },
     "execution_count": 27,
     "metadata": {},
     "output_type": "execute_result"
    }
   ],
   "source": [
    "categories = ['Food', 'Travel', 'Fashion', 'Fitness', 'Music', 'Culture', 'Politics']\n",
    "social_media = ['Facebook', 'X (former Twitter)', 'Threads', 'Instagram']\n",
    "data = {'Date': pd.date_range('2021-01-01', periods=1000), 'Category': [random.choice(categories) for _ in range(1000                                                                                                                )],\n",
    "        'Likes': np.random.randint(0, 10000, size=1000), 'Social Media': [random.choice(social_media) for _ in range(1000)]}\n",
    "df = pd.DataFrame(data)\n",
    "df"
   ]
  },
  {
   "cell_type": "markdown",
   "id": "52536b65",
   "metadata": {},
   "source": [
    "#### Analyzing data\n",
    "When importing data, it's good to check informations about it before working. In this case, we have generated data, which types we already know, but let's check it."
   ]
  },
  {
   "cell_type": "code",
   "execution_count": 16,
   "id": "6178425d",
   "metadata": {},
   "outputs": [
    {
     "data": {
      "text/plain": [
       "Date        datetime64[ns]\n",
       "Category            object\n",
       "Likes                int32\n",
       "dtype: object"
      ]
     },
     "execution_count": 16,
     "metadata": {},
     "output_type": "execute_result"
    }
   ],
   "source": [
    "df.dtypes"
   ]
  },
  {
   "cell_type": "markdown",
   "id": "563a56af",
   "metadata": {},
   "source": [
    "We have datetime (Date), object (Category) and integer (Likes) as dtypes for this dataframe, in this way we can continue our analysis whithout any type transformation. <br>\n",
    "We can call describe() pandas method to check out basics informations about our dataset."
   ]
  },
  {
   "cell_type": "code",
   "execution_count": 43,
   "id": "70cebd40",
   "metadata": {},
   "outputs": [
    {
     "data": {
      "text/html": [
       "<div>\n",
       "<style scoped>\n",
       "    .dataframe tbody tr th:only-of-type {\n",
       "        vertical-align: middle;\n",
       "    }\n",
       "\n",
       "    .dataframe tbody tr th {\n",
       "        vertical-align: top;\n",
       "    }\n",
       "\n",
       "    .dataframe thead th {\n",
       "        text-align: right;\n",
       "    }\n",
       "</style>\n",
       "<table border=\"1\" class=\"dataframe\">\n",
       "  <thead>\n",
       "    <tr style=\"text-align: right;\">\n",
       "      <th></th>\n",
       "      <th>Likes</th>\n",
       "    </tr>\n",
       "  </thead>\n",
       "  <tbody>\n",
       "    <tr>\n",
       "      <th>count</th>\n",
       "      <td>1000.000000</td>\n",
       "    </tr>\n",
       "    <tr>\n",
       "      <th>mean</th>\n",
       "      <td>4978.842000</td>\n",
       "    </tr>\n",
       "    <tr>\n",
       "      <th>std</th>\n",
       "      <td>2916.284446</td>\n",
       "    </tr>\n",
       "    <tr>\n",
       "      <th>min</th>\n",
       "      <td>28.000000</td>\n",
       "    </tr>\n",
       "    <tr>\n",
       "      <th>25%</th>\n",
       "      <td>2395.000000</td>\n",
       "    </tr>\n",
       "    <tr>\n",
       "      <th>50%</th>\n",
       "      <td>5088.500000</td>\n",
       "    </tr>\n",
       "    <tr>\n",
       "      <th>75%</th>\n",
       "      <td>7471.500000</td>\n",
       "    </tr>\n",
       "    <tr>\n",
       "      <th>max</th>\n",
       "      <td>9997.000000</td>\n",
       "    </tr>\n",
       "  </tbody>\n",
       "</table>\n",
       "</div>"
      ],
      "text/plain": [
       "             Likes\n",
       "count  1000.000000\n",
       "mean   4978.842000\n",
       "std    2916.284446\n",
       "min      28.000000\n",
       "25%    2395.000000\n",
       "50%    5088.500000\n",
       "75%    7471.500000\n",
       "max    9997.000000"
      ]
     },
     "execution_count": 43,
     "metadata": {},
     "output_type": "execute_result"
    }
   ],
   "source": [
    "df.describe()"
   ]
  },
  {
   "cell_type": "markdown",
   "id": "ecd7393d",
   "metadata": {},
   "source": [
    "The first operation that we'll use is groupby, which combines our data and makes it's easier to work with.<br>\n",
    "First of all, we'll groupby by Social Media and Categories and sum Likes columns to summarize our data. Transforming the resulting Series in a DataFrame makes it's easier to understand and visualize the results."
   ]
  },
  {
   "cell_type": "code",
   "execution_count": 48,
   "id": "2d906cee",
   "metadata": {},
   "outputs": [
    {
     "data": {
      "text/html": [
       "<div>\n",
       "<style scoped>\n",
       "    .dataframe tbody tr th:only-of-type {\n",
       "        vertical-align: middle;\n",
       "    }\n",
       "\n",
       "    .dataframe tbody tr th {\n",
       "        vertical-align: top;\n",
       "    }\n",
       "\n",
       "    .dataframe thead th {\n",
       "        text-align: right;\n",
       "    }\n",
       "</style>\n",
       "<table border=\"1\" class=\"dataframe\">\n",
       "  <thead>\n",
       "    <tr style=\"text-align: right;\">\n",
       "      <th></th>\n",
       "      <th></th>\n",
       "      <th>Likes</th>\n",
       "    </tr>\n",
       "    <tr>\n",
       "      <th>Social Media</th>\n",
       "      <th>Category</th>\n",
       "      <th></th>\n",
       "    </tr>\n",
       "  </thead>\n",
       "  <tbody>\n",
       "    <tr>\n",
       "      <th>Instagram</th>\n",
       "      <th>Food</th>\n",
       "      <td>248044</td>\n",
       "    </tr>\n",
       "    <tr>\n",
       "      <th>Threads</th>\n",
       "      <th>Fashion</th>\n",
       "      <td>242796</td>\n",
       "    </tr>\n",
       "    <tr>\n",
       "      <th>Facebook</th>\n",
       "      <th>Food</th>\n",
       "      <td>210270</td>\n",
       "    </tr>\n",
       "    <tr>\n",
       "      <th>X (former Twitter)</th>\n",
       "      <th>Food</th>\n",
       "      <td>210261</td>\n",
       "    </tr>\n",
       "    <tr>\n",
       "      <th>Instagram</th>\n",
       "      <th>Culture</th>\n",
       "      <td>209332</td>\n",
       "    </tr>\n",
       "  </tbody>\n",
       "</table>\n",
       "</div>"
      ],
      "text/plain": [
       "                              Likes\n",
       "Social Media       Category        \n",
       "Instagram          Food      248044\n",
       "Threads            Fashion   242796\n",
       "Facebook           Food      210270\n",
       "X (former Twitter) Food      210261\n",
       "Instagram          Culture   209332"
      ]
     },
     "execution_count": 48,
     "metadata": {},
     "output_type": "execute_result"
    }
   ],
   "source": [
    "sum_likes = df.groupby(['Social Media','Category'])['Likes'].sum()\n",
    "sum_likes = pd.DataFrame(sum_likes)\n",
    "sum_likes.sort_values(by='Likes', ascending=False, inplace=True)\n",
    "sum_likes.head()"
   ]
  },
  {
   "cell_type": "code",
   "execution_count": null,
   "id": "af73de73",
   "metadata": {},
   "outputs": [],
   "source": []
  }
 ],
 "metadata": {
  "kernelspec": {
   "display_name": "Python 3 (ipykernel)",
   "language": "python",
   "name": "python3"
  },
  "language_info": {
   "codemirror_mode": {
    "name": "ipython",
    "version": 3
   },
   "file_extension": ".py",
   "mimetype": "text/x-python",
   "name": "python",
   "nbconvert_exporter": "python",
   "pygments_lexer": "ipython3",
   "version": "3.10.9"
  }
 },
 "nbformat": 4,
 "nbformat_minor": 5
}
